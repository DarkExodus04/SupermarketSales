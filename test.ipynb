{
 "cells": [
  {
   "cell_type": "code",
   "execution_count": 1,
   "id": "e6bebcb4-a2de-4e86-96a6-eb9fe73e9f7b",
   "metadata": {},
   "outputs": [],
   "source": [
    "import pandas as pd\n",
    "from pandas import DatetimeIndex as dt\n",
    "import numpy as np\n",
    "from sklearn.model_selection import train_test_split, GridSearchCV, cross_val_score\n",
    "from sklearn.linear_model import LinearRegression, LogisticRegression\n",
    "from sklearn.ensemble import RandomForestClassifier\n",
    "from sklearn.pipeline import Pipeline\n",
    "import matplotlib.pyplot as plt\n",
    "from datetime import datetime\n",
    "from sklearn.preprocessing import StandardScaler, PolynomialFeatures, OrdinalEncoder, OneHotEncoder\n",
    "from sklearn.metrics import classification_report, r2_score\n",
    "from sklearn.compose import ColumnTransformer\n",
    "from sklearn.linear_model import Lasso\n",
    "from pandas.plotting import scatter_matrix\n",
    "from scipy import stats\n",
    "import joblib"
   ]
  },
  {
   "cell_type": "code",
   "execution_count": 2,
   "id": "adba97a8-94ee-4e26-b96b-d157dcaecae9",
   "metadata": {
    "tags": []
   },
   "outputs": [],
   "source": [
    "sales = pd.read_csv('supermarket_sales.csv')\n",
    "#Changing Date and Column according to encoding requirements\n",
    "sales['Date'] = pd.to_datetime(sales['Date']).dt.day_of_week\n",
    "\n",
    "pd.to_datetime(sales['Time'])\n",
    "pd.to_datetime(sales['Time']).dt.strftime('%H').astype('float')\n",
    "\n",
    "sales['Time'] = pd.to_datetime(sales['Time']).dt.strftime('%H').astype('float')\n",
    "sales['Time'] = pd.cut(sales['Time'], bins=[0., 12.0, 17.0, 19.0, np.inf], labels=[1, 2, 3, 4])\n",
    "\n",
    "sales_income = sales.drop(labels=['Invoice ID', 'gross margin percentage'], axis = 1)"
   ]
  },
  {
   "cell_type": "markdown",
   "id": "9b2f1a26-cef2-4e60-afbc-21d88ab7489f",
   "metadata": {},
   "source": [
    "#### 2. Gross income"
   ]
  },
  {
   "cell_type": "code",
   "execution_count": 3,
   "id": "2b31d1d1-c744-43a8-b614-b4fe8323369e",
   "metadata": {
    "tags": []
   },
   "outputs": [
    {
     "name": "stdout",
     "output_type": "stream",
     "text": [
      "R-squared (R2) Score: 1.00\n",
      "95% CI: for Training without Lasso regularization (0.9999999292586668, 1.0000000228877985)\n"
     ]
    }
   ],
   "source": [
    "X = sales_income.drop(labels=['gross income'],axis=1)\n",
    "t = sales_income[['gross income']]\n",
    "\n",
    "Total_cat = pd.cut(sales['Total'],\n",
    "                   bins=[0,125,250,400,600, np.inf],\n",
    "                   labels=[1, 2, 3, 4, 5])\n",
    "\n",
    "X_train, X_test, t_train, t_test = train_test_split(X,t, stratify = Total_cat, test_size = 0.2, random_state = 2,shuffle=True)\n",
    "\n",
    "gross_income = joblib.load('models/LinearReg_tuned.pkl')\n",
    "\n",
    "y_test = gross_income.predict(X_test)\n",
    "\n",
    "r2 = r2_score(t_test, y_test)\n",
    "print(f'R-squared (R2) Score: {r2:.2f}')\n",
    "\n",
    "cv_scores  = cross_val_score(gross_income, X_test, t_test, cv=2, scoring='r2')\n",
    "\n",
    "confidence = 0.95\n",
    "\n",
    "print('95% CI: for Training without Lasso regularization', stats.t.interval(confidence, len(cv_scores) - 1,\n",
    "                 loc=cv_scores.mean(),\n",
    "                 scale=cv_scores.std(ddof=1)/np.sqrt(len(cv_scores))))"
   ]
  },
  {
   "cell_type": "markdown",
   "id": "ec9b438c-5036-4ec0-9ea7-b0cf7334f2e2",
   "metadata": {},
   "source": [
    "#### 3. Unit Price"
   ]
  },
  {
   "cell_type": "code",
   "execution_count": 4,
   "id": "6d193189-941d-487f-8933-ee18a6f1a733",
   "metadata": {
    "tags": []
   },
   "outputs": [
    {
     "name": "stdout",
     "output_type": "stream",
     "text": [
      "R-squared (R2) Score: 0.78\n",
      "95% CI:  (0.1916718869451629, 1.2361275708821808)\n"
     ]
    }
   ],
   "source": [
    "X = sales_income.drop(labels=['Unit price','City'],axis=1)\n",
    "t = sales_income[['Unit price']]\n",
    "\n",
    "Total_cat = pd.cut(sales['Total'],\n",
    "                   bins=[0,125,250, 470, np.inf],\n",
    "                   labels=[1, 2, 3, 4])\n",
    "\n",
    "X_train, X_test, t_train, t_test = train_test_split(X,t, stratify = Total_cat, test_size = 0.2, random_state = 2,shuffle=True)\n",
    "\n",
    "unit_price = joblib.load('models/LinearReg_UnitPrice.pkl')\n",
    "\n",
    "y_test = unit_price.predict(X_test)\n",
    "\n",
    "r2 = r2_score(t_test, y_test)\n",
    "print(f'R-squared (R2) Score: {r2:.2f}')\n",
    "\n",
    "grid_scores  = cross_val_score(unit_price, X_test, t_test, cv=2, scoring='r2')\n",
    "\n",
    "confidence = 0.95\n",
    "\n",
    "print('95% CI: ', stats.t.interval(confidence, len(grid_scores) - 1,\n",
    "                 loc=grid_scores.mean(),\n",
    "                 scale=grid_scores.std(ddof=1)/np.sqrt(len(grid_scores))))"
   ]
  },
  {
   "cell_type": "markdown",
   "id": "0b7622bb-d2cb-48ed-9c4b-c6cd3e15c59d",
   "metadata": {},
   "source": [
    "#### 4. Gender"
   ]
  },
  {
   "cell_type": "code",
   "execution_count": 5,
   "id": "b5c67180-2bf3-4b3c-9caa-0d5327783085",
   "metadata": {
    "tags": []
   },
   "outputs": [
    {
     "name": "stdout",
     "output_type": "stream",
     "text": [
      "Test Set:\n",
      "               precision    recall  f1-score   support\n",
      "\n",
      "         0.0       0.43      0.38      0.40       100\n",
      "         1.0       0.44      0.49      0.46       100\n",
      "\n",
      "    accuracy                           0.43       200\n",
      "   macro avg       0.43      0.43      0.43       200\n",
      "weighted avg       0.43      0.43      0.43       200\n",
      "\n"
     ]
    }
   ],
   "source": [
    "sales_class = sales.drop(labels=['Invoice ID','gross margin percentage'],axis=1)\n",
    "cat_enc = OrdinalEncoder()\n",
    "t = cat_enc.fit_transform(sales_class[['Gender']]).ravel()\n",
    "X = sales_class.drop(labels=['Gender'],axis=1)\n",
    "\n",
    "X_train, X_test, t_train, t_test = train_test_split(X,t, stratify = t, test_size = 0.2, random_state = 2,shuffle=True)\n",
    "\n",
    "gender = joblib.load('models/LogReg_Gender.pkl')\n",
    "\n",
    "y_test = gender.predict(X_test)\n",
    "\n",
    "print('Test Set:\\n', classification_report(t_test, y_test))"
   ]
  },
  {
   "cell_type": "markdown",
   "id": "349d08dd-9688-435d-a792-11c6b6ddaa97",
   "metadata": {},
   "source": [
    "#### 5. Customer Type"
   ]
  },
  {
   "cell_type": "code",
   "execution_count": 6,
   "id": "2a1fee1e-fe5d-4076-9ab5-4a3943c897d7",
   "metadata": {
    "tags": []
   },
   "outputs": [
    {
     "name": "stdout",
     "output_type": "stream",
     "text": [
      "Test Set:\n",
      "               precision    recall  f1-score   support\n",
      "\n",
      "         0.0       0.52      0.54      0.53       100\n",
      "         1.0       0.53      0.51      0.52       100\n",
      "\n",
      "    accuracy                           0.53       200\n",
      "   macro avg       0.53      0.53      0.52       200\n",
      "weighted avg       0.53      0.53      0.52       200\n",
      "\n"
     ]
    }
   ],
   "source": [
    "sales_class = sales.drop(labels=['Invoice ID','gross margin percentage'],axis=1)\n",
    "cat_enc = OrdinalEncoder()\n",
    "t = cat_enc.fit_transform(sales_class[['Customer type']]).ravel()\n",
    "X = sales_class.drop(labels=['Customer type'],axis=1)\n",
    "\n",
    "X_train, X_test, t_train, t_test = train_test_split(X,t, stratify = t, test_size = 0.2, random_state = 2,shuffle=True)\n",
    "\n",
    "customer_type = joblib.load('models/LogReg_CustomerType.pkl')\n",
    "\n",
    "y_test = customer_type.predict(X_test)\n",
    "\n",
    "print('Test Set:\\n', classification_report(t_test, y_test))"
   ]
  },
  {
   "cell_type": "markdown",
   "id": "beb10027-214e-46ee-a96f-08c34907ce76",
   "metadata": {},
   "source": [
    "#### 6. Day of the Week"
   ]
  },
  {
   "cell_type": "code",
   "execution_count": 7,
   "id": "d7dae5f2-bca1-4091-a143-88151ea73993",
   "metadata": {
    "tags": []
   },
   "outputs": [],
   "source": [
    "sales_class_day = sales.drop(labels=['Invoice ID','gross margin percentage'],axis=1)\n",
    "X = sales_class_day.drop(labels=['Date'],axis=1)\n",
    "t = sales_class_day['Date']\n",
    "X_train, X_test, t_train, t_test = train_test_split(X, t, test_size=0.2, random_state=2, shuffle = True, stratify = t)"
   ]
  },
  {
   "cell_type": "code",
   "execution_count": 8,
   "id": "3d192ec4-e0aa-4b29-8faf-24d24131f3a8",
   "metadata": {
    "tags": []
   },
   "outputs": [
    {
     "name": "stdout",
     "output_type": "stream",
     "text": [
      "Test Set:\n",
      "               precision    recall  f1-score   support\n",
      "\n",
      "           0       0.00      0.00      0.00        25\n",
      "           1       0.16      0.41      0.23        32\n",
      "           2       0.33      0.07      0.11        29\n",
      "           3       0.11      0.04      0.06        27\n",
      "           4       0.17      0.04      0.06        28\n",
      "           5       0.13      0.36      0.20        33\n",
      "           6       0.00      0.00      0.00        26\n",
      "\n",
      "    accuracy                           0.14       200\n",
      "   macro avg       0.13      0.13      0.09       200\n",
      "weighted avg       0.13      0.14      0.10       200\n",
      "\n"
     ]
    }
   ],
   "source": [
    "#Random Forest\n",
    "day_ran = joblib.load('models/RandomForest_Day.pkl')\n",
    "\n",
    "y_test = day_ran.predict(X_test)\n",
    "\n",
    "print('Test Set:\\n', classification_report(t_test, y_test))"
   ]
  },
  {
   "cell_type": "code",
   "execution_count": 10,
   "id": "222f79c2-3b87-489b-88e9-c68e0d01bcd0",
   "metadata": {},
   "outputs": [
    {
     "name": "stdout",
     "output_type": "stream",
     "text": [
      "Training Set:\n",
      "               precision    recall  f1-score   support\n",
      "\n",
      "           0       0.09      0.08      0.08        25\n",
      "           1       0.13      0.19      0.15        32\n",
      "           2       0.22      0.24      0.23        29\n",
      "           3       0.15      0.15      0.15        27\n",
      "           4       0.11      0.04      0.05        28\n",
      "           5       0.09      0.09      0.09        33\n",
      "           6       0.11      0.12      0.11        26\n",
      "\n",
      "    accuracy                           0.13       200\n",
      "   macro avg       0.13      0.13      0.12       200\n",
      "weighted avg       0.13      0.13      0.12       200\n",
      "\n"
     ]
    }
   ],
   "source": [
    "#Logistic Regression\n",
    "day_log = joblib.load('models/LogReg_Day.pkl')\n",
    "\n",
    "y_test = day_log.predict(X_test)\n",
    "\n",
    "print('Training Set:\\n', classification_report(t_test, y_test))"
   ]
  },
  {
   "cell_type": "code",
   "execution_count": null,
   "id": "dde3986a-24e9-4324-8587-24df74156962",
   "metadata": {},
   "outputs": [],
   "source": []
  }
 ],
 "metadata": {
  "kernelspec": {
   "display_name": "UFRC Python-3.10",
   "language": "python",
   "name": "python3-3.10-ufrc"
  },
  "language_info": {
   "codemirror_mode": {
    "name": "ipython",
    "version": 3
   },
   "file_extension": ".py",
   "mimetype": "text/x-python",
   "name": "python",
   "nbconvert_exporter": "python",
   "pygments_lexer": "ipython3",
   "version": "3.10.5"
  }
 },
 "nbformat": 4,
 "nbformat_minor": 5
}
